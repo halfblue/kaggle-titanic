{
 "cells": [
  {
   "cell_type": "code",
   "execution_count": 7,
   "metadata": {},
   "outputs": [],
   "source": [
    "import pandas as pd\n",
    "import numpy as np\n",
    "import matplotlib.pyplot as plt\n",
    "from pylab import mpl\n",
    "import seaborn as sns"
   ]
  },
  {
   "cell_type": "code",
   "execution_count": 350,
   "metadata": {},
   "outputs": [
    {
     "data": {
      "text/html": [
       "<div>\n",
       "<style scoped>\n",
       "    .dataframe tbody tr th:only-of-type {\n",
       "        vertical-align: middle;\n",
       "    }\n",
       "\n",
       "    .dataframe tbody tr th {\n",
       "        vertical-align: top;\n",
       "    }\n",
       "\n",
       "    .dataframe thead th {\n",
       "        text-align: right;\n",
       "    }\n",
       "</style>\n",
       "<table border=\"1\" class=\"dataframe\">\n",
       "  <thead>\n",
       "    <tr style=\"text-align: right;\">\n",
       "      <th></th>\n",
       "      <th>Age</th>\n",
       "      <th>Cabin</th>\n",
       "      <th>Embarked</th>\n",
       "      <th>Fare</th>\n",
       "      <th>Name</th>\n",
       "      <th>Parch</th>\n",
       "      <th>PassengerId</th>\n",
       "      <th>Pclass</th>\n",
       "      <th>Sex</th>\n",
       "      <th>SibSp</th>\n",
       "      <th>Survived</th>\n",
       "      <th>Ticket</th>\n",
       "    </tr>\n",
       "  </thead>\n",
       "  <tbody>\n",
       "    <tr>\n",
       "      <th>0</th>\n",
       "      <td>22.0</td>\n",
       "      <td>NaN</td>\n",
       "      <td>S</td>\n",
       "      <td>7.2500</td>\n",
       "      <td>Braund, Mr. Owen Harris</td>\n",
       "      <td>0</td>\n",
       "      <td>1</td>\n",
       "      <td>3</td>\n",
       "      <td>male</td>\n",
       "      <td>1</td>\n",
       "      <td>0.0</td>\n",
       "      <td>A/5 21171</td>\n",
       "    </tr>\n",
       "    <tr>\n",
       "      <th>1</th>\n",
       "      <td>38.0</td>\n",
       "      <td>C85</td>\n",
       "      <td>C</td>\n",
       "      <td>71.2833</td>\n",
       "      <td>Cumings, Mrs. John Bradley (Florence Briggs Th...</td>\n",
       "      <td>0</td>\n",
       "      <td>2</td>\n",
       "      <td>1</td>\n",
       "      <td>female</td>\n",
       "      <td>1</td>\n",
       "      <td>1.0</td>\n",
       "      <td>PC 17599</td>\n",
       "    </tr>\n",
       "    <tr>\n",
       "      <th>2</th>\n",
       "      <td>26.0</td>\n",
       "      <td>NaN</td>\n",
       "      <td>S</td>\n",
       "      <td>7.9250</td>\n",
       "      <td>Heikkinen, Miss. Laina</td>\n",
       "      <td>0</td>\n",
       "      <td>3</td>\n",
       "      <td>3</td>\n",
       "      <td>female</td>\n",
       "      <td>0</td>\n",
       "      <td>1.0</td>\n",
       "      <td>STON/O2. 3101282</td>\n",
       "    </tr>\n",
       "    <tr>\n",
       "      <th>3</th>\n",
       "      <td>35.0</td>\n",
       "      <td>C123</td>\n",
       "      <td>S</td>\n",
       "      <td>53.1000</td>\n",
       "      <td>Futrelle, Mrs. Jacques Heath (Lily May Peel)</td>\n",
       "      <td>0</td>\n",
       "      <td>4</td>\n",
       "      <td>1</td>\n",
       "      <td>female</td>\n",
       "      <td>1</td>\n",
       "      <td>1.0</td>\n",
       "      <td>113803</td>\n",
       "    </tr>\n",
       "    <tr>\n",
       "      <th>4</th>\n",
       "      <td>35.0</td>\n",
       "      <td>NaN</td>\n",
       "      <td>S</td>\n",
       "      <td>8.0500</td>\n",
       "      <td>Allen, Mr. William Henry</td>\n",
       "      <td>0</td>\n",
       "      <td>5</td>\n",
       "      <td>3</td>\n",
       "      <td>male</td>\n",
       "      <td>0</td>\n",
       "      <td>0.0</td>\n",
       "      <td>373450</td>\n",
       "    </tr>\n",
       "  </tbody>\n",
       "</table>\n",
       "</div>"
      ],
      "text/plain": [
       "    Age Cabin Embarked     Fare  \\\n",
       "0  22.0   NaN        S   7.2500   \n",
       "1  38.0   C85        C  71.2833   \n",
       "2  26.0   NaN        S   7.9250   \n",
       "3  35.0  C123        S  53.1000   \n",
       "4  35.0   NaN        S   8.0500   \n",
       "\n",
       "                                                Name  Parch  PassengerId  \\\n",
       "0                            Braund, Mr. Owen Harris      0            1   \n",
       "1  Cumings, Mrs. John Bradley (Florence Briggs Th...      0            2   \n",
       "2                             Heikkinen, Miss. Laina      0            3   \n",
       "3       Futrelle, Mrs. Jacques Heath (Lily May Peel)      0            4   \n",
       "4                           Allen, Mr. William Henry      0            5   \n",
       "\n",
       "   Pclass     Sex  SibSp  Survived            Ticket  \n",
       "0       3    male      1       0.0         A/5 21171  \n",
       "1       1  female      1       1.0          PC 17599  \n",
       "2       3  female      0       1.0  STON/O2. 3101282  \n",
       "3       1  female      1       1.0            113803  \n",
       "4       3    male      0       0.0            373450  "
      ]
     },
     "execution_count": 350,
     "metadata": {},
     "output_type": "execute_result"
    }
   ],
   "source": [
    "data_train = pd.read_csv('train.csv')\n",
    "data_test = pd.read_csv('test.csv')\n",
    "data = pd.concat([data_train,data_test],sort='False',ignore_index=False)\n",
    "data.head()"
   ]
  },
  {
   "cell_type": "code",
   "execution_count": 357,
   "metadata": {},
   "outputs": [
    {
     "data": {
      "image/png": "[encoded data removed]",
      "text/plain": [
       "<Figure size 432x288 with 1 Axes>"
      ]
     },
     "metadata": {
      "needs_background": "light"
     },
     "output_type": "display_data"
    }
   ],
   "source": [
    "mpl.rcParams['font.sans-serif'] = ['SimHei']\n",
    "def survivedFactorPlot(data_train,col,k='bar'):\n",
    "    Survived_0 = data_train[col][data_train.Survived == 0].value_counts()\n",
    "    Survived_1 = data_train[col][data_train.Survived == 1].value_counts()\n",
    "    df=pd.DataFrame({u'未获救':Survived_0,u'获救':Survived_1})\n",
    "    df.plot(kind=k)\n",
    "    plt.title(f\"各{col}幸存人数\")\n",
    "    plt.xlabel(col) \n",
    "    plt.ylabel(u\"人数\") \n",
    "    plt.show()\n",
    "survivedFactorPlot(data_train,'Pclass')"
   ]
  },
  {
   "cell_type": "code",
   "execution_count": 29,
   "metadata": {},
   "outputs": [],
   "source": [
    "#根据称谓划分，名字长度和是否有括号太玄学了\n",
    "def splitName(data_train):\n",
    "    alltitles = data_train.Name.str.extract('([A-Za-z]+)\\.')[0].value_counts()\n",
    "    titles = alltitles.index.tolist()\n",
    "    littles = ['Capt','Don','Dona','Jonkheer','Major','Rev','Sir','Col']\n",
    "    middles = ['Dr','Countess','Mlle','Lady','Mme','Ms']\n",
    "    for title in titles:\n",
    "        data_train.loc[data_train.Name.str.contains(title),'Title']=title\n",
    "    for little in littles:\n",
    "        data_train.loc[data_train.Name.str.contains(little),'Title']='little'\n",
    "    for middle in middles:\n",
    "        data_train.loc[data_train.Name.str.contains(middle),'Title']='middle'\n",
    "    return data_train"
   ]
  },
  {
   "cell_type": "code",
   "execution_count": 28,
   "metadata": {},
   "outputs": [
    {
     "data": {
      "image/png": "[encoded data removed]",
      "text/plain": [
       "<Figure size 432x288 with 1 Axes>"
      ]
     },
     "metadata": {
      "needs_background": "light"
     },
     "output_type": "display_data"
    },
    {
     "data": {
      "text/plain": [
       "Mr        506\n",
       "Miss      178\n",
       "Mrs       125\n",
       "Master     40\n",
       "little     25\n",
       "middle     17\n",
       "Name: Title, dtype: int64"
      ]
     },
     "execution_count": 28,
     "metadata": {},
     "output_type": "execute_result"
    }
   ],
   "source": [
    "splitName(data)\n",
    "survivedFactorPlot(data[:data_train.shape[0]],'Title')\n",
    "data[:data_train.shape[0]].Title.value_counts()"
   ]
  },
  {
   "cell_type": "code",
   "execution_count": 50,
   "metadata": {},
   "outputs": [
    {
     "data": {
      "image/png": "[encoded data removed]",
      "text/plain": [
       "<Figure size 432x288 with 1 Axes>"
      ]
     },
     "metadata": {
      "needs_background": "light"
     },
     "output_type": "display_data"
    }
   ],
   "source": [
    "data['Family'] = data.eval('SibSp+Parch')\n",
    "survivedFactorPlot(data,'Family')"
   ]
  },
  {
   "cell_type": "code",
   "execution_count": 53,
   "metadata": {},
   "outputs": [
    {
     "data": {
      "image/png": "[encoded data removed]",
      "text/plain": [
       "<Figure size 432x288 with 1 Axes>"
      ]
     },
     "metadata": {
      "needs_background": "light"
     },
     "output_type": "display_data"
    }
   ],
   "source": [
    "#ticket是否相同可以作为一个特征\n",
    "#如果用duplicate函数只能得到一半的标记\n",
    "def ticketSame(data_train):\n",
    "    dup_counts = data_train.groupby('Ticket')['Ticket'].transform('count')\n",
    "    data_train['TicketDup'] = dup_counts\n",
    "    data_train.loc[dup_counts==1,'TicketDup'] = 0#一个人是第一类\n",
    "    data_train.loc[dup_counts>1,'TicketDup'] = 1#2到4个人是第二类\n",
    "ticketSame(data)\n",
    "survivedFactorPlot(data,'TicketDup')"
   ]
  },
  {
   "cell_type": "code",
   "execution_count": 54,
   "metadata": {},
   "outputs": [
    {
     "data": {
      "image/png": "[encoded data removed]",
      "text/plain": [
       "<Figure size 432x288 with 1 Axes>"
      ]
     },
     "metadata": {
      "needs_background": "light"
     },
     "output_type": "display_data"
    }
   ],
   "source": [
    "#Fare高活得概率大\n",
    "survivedFactorPlot(data,'Fare','line')"
   ]
  },
  {
   "cell_type": "code",
   "execution_count": 60,
   "metadata": {},
   "outputs": [
    {
     "data": {
      "image/png": "[encoded data removed]",
      "text/plain": [
       "<Figure size 432x288 with 1 Axes>"
      ]
     },
     "metadata": {
      "needs_background": "light"
     },
     "output_type": "display_data"
    }
   ],
   "source": [
    "data['Cabin'] = data.Cabin.str[0]\n",
    "data.loc[data.Cabin.isnull(),'Cabin'] = 'NaN'\n",
    "survivedFactorPlot(data,'Cabin')"
   ]
  },
  {
   "cell_type": "code",
   "execution_count": 70,
   "metadata": {},
   "outputs": [],
   "source": [
    "data.loc[data.Embarked.isnull(),'Embarked'] = 'C'\n",
    "faremedian = np.median(data.Fare[data.Fare.notnull()])\n",
    "data.loc[data.Fare.isnull(),'Fare'] =faremedian"
   ]
  },
  {
   "cell_type": "code",
   "execution_count": 95,
   "metadata": {},
   "outputs": [],
   "source": [
    "data2 = pd.concat([data_train,data_test],sort='False',ignore_index=False)\n",
    "data['Age'] = data2.Age\n",
    "data.to_csv('all.csv',index=False)"
   ]
  },
  {
   "cell_type": "code",
   "execution_count": 76,
   "metadata": {},
   "outputs": [
    {
     "name": "stderr",
     "output_type": "stream",
     "text": [
      "C:\\ProgramData\\Anaconda3\\lib\\site-packages\\sklearn\\ensemble\\weight_boosting.py:29: DeprecationWarning: numpy.core.umath_tests is an internal NumPy module and should not be imported. It will be removed in a future NumPy release.\n",
      "  from numpy.core.umath_tests import inner1d\n"
     ]
    }
   ],
   "source": [
    "from sklearn.ensemble import RandomForestRegressor\n",
    "\n",
    "def set_missing_ages(df,cols):\n",
    "\n",
    "    # 把已有的数值型特征取出来丢进Random Forest Regressor中\n",
    "    age_df = df[cols]\n",
    "\n",
    "    # 乘客分成已知年龄和未知年龄两部分\n",
    "    known_age = age_df[age_df.Age.notnull()].as_matrix()\n",
    "    unknown_age = age_df[age_df.Age.isnull()].as_matrix()\n",
    "\n",
    "    # y即目标年龄\n",
    "    y = known_age[:, 0]\n",
    "\n",
    "    # X即特征属性值\n",
    "    X = known_age[:, 1:]\n",
    "\n",
    "    # fit到RandomForestRegressor之中\n",
    "    rfr = RandomForestRegressor(random_state=0, n_estimators=2000, n_jobs=-1)\n",
    "    rfr.fit(X, y)\n",
    "\n",
    "    # 用得到的模型进行未知年龄结果预测\n",
    "    predictedAges = rfr.predict(unknown_age[:, 1::])\n",
    "\n",
    "    # 用得到的预测结果填补原缺失数据\n",
    "    df.loc[ (df.Age.isnull()), 'Age' ] = predictedAges \n",
    "\n",
    "    return df, rfr"
   ]
  },
  {
   "cell_type": "code",
   "execution_count": 89,
   "metadata": {},
   "outputs": [
    {
     "name": "stdout",
     "output_type": "stream",
     "text": [
      "<class 'pandas.core.frame.DataFrame'>\n",
      "Int64Index: 1309 entries, 0 to 417\n",
      "Data columns (total 36 columns):\n",
      "Age             1309 non-null float64\n",
      "Fare            1309 non-null float64\n",
      "Pclass_1        1309 non-null uint8\n",
      "Pclass_2        1309 non-null uint8\n",
      "Pclass_3        1309 non-null uint8\n",
      "Cabin_A         1309 non-null uint8\n",
      "Cabin_B         1309 non-null uint8\n",
      "Cabin_C         1309 non-null uint8\n",
      "Cabin_D         1309 non-null uint8\n",
      "Cabin_E         1309 non-null uint8\n",
      "Cabin_F         1309 non-null uint8\n",
      "Cabin_G         1309 non-null uint8\n",
      "Cabin_NaN       1309 non-null uint8\n",
      "Cabin_T         1309 non-null uint8\n",
      "Embarked_C      1309 non-null uint8\n",
      "Embarked_Q      1309 non-null uint8\n",
      "Embarked_S      1309 non-null uint8\n",
      "Title_Master    1309 non-null uint8\n",
      "Title_Miss      1309 non-null uint8\n",
      "Title_Mr        1309 non-null uint8\n",
      "Title_Mrs       1309 non-null uint8\n",
      "Title_little    1309 non-null uint8\n",
      "Title_middle    1309 non-null uint8\n",
      "Sex_female      1309 non-null uint8\n",
      "Sex_male        1309 non-null uint8\n",
      "TicketDup_0     1309 non-null uint8\n",
      "TicketDup_1     1309 non-null uint8\n",
      "Family_0        1309 non-null uint8\n",
      "Family_1        1309 non-null uint8\n",
      "Family_2        1309 non-null uint8\n",
      "Family_3        1309 non-null uint8\n",
      "Family_4        1309 non-null uint8\n",
      "Family_5        1309 non-null uint8\n",
      "Family_6        1309 non-null uint8\n",
      "Family_7        1309 non-null uint8\n",
      "Family_10       1309 non-null uint8\n",
      "dtypes: float64(2), uint8(34)\n",
      "memory usage: 114.1 KB\n"
     ]
    }
   ],
   "source": [
    "data_dummies.info()"
   ]
  },
  {
   "cell_type": "code",
   "execution_count": 80,
   "metadata": {},
   "outputs": [],
   "source": [
    "set_missing_ages(data,['Age','Fare', 'Parch', 'SibSp', 'Pclass'])"
   ]
  },
  {
   "cell_type": "code",
   "execution_count": 87,
   "metadata": {},
   "outputs": [],
   "source": [
    "dummies=['Pclass','Cabin','Embarked','Title','Sex','TicketDup','Family']\n",
    "data_dummies = pd.get_dummies(data,columns=dummies)\n",
    "data_dummies = data_dummies.drop(['PassengerId','Survived','Name','Ticket','Parch','SibSp'],axis=1)"
   ]
  },
  {
   "cell_type": "code",
   "execution_count": 146,
   "metadata": {},
   "outputs": [],
   "source": [
    "import sklearn.preprocessing as preprocessing\n",
    "scaler = preprocessing.StandardScaler()\n",
    "age_scale_param = scaler.fit(data_dummies['Age'].values.reshape(-1,1))\n",
    "data_dummies['Age'] = scaler.fit_transform(data_dummies['Age'].values.reshape(-1,1), age_scale_param)\n",
    "fare_scale_param = scaler.fit(data_dummies['Fare'].values.reshape(-1,1))\n",
    "data_dummies['Fare'] = scaler.fit_transform(data_dummies['Fare'].values.reshape(-1,1), fare_scale_param)"
   ]
  },
  {
   "cell_type": "code",
   "execution_count": 245,
   "metadata": {},
   "outputs": [
    {
     "name": "stderr",
     "output_type": "stream",
     "text": [
      "C:\\ProgramData\\Anaconda3\\lib\\site-packages\\ipykernel\\__main__.py:4: FutureWarning: Method .as_matrix will be removed in a future version. Use .values instead.\n"
     ]
    },
    {
     "data": {
      "text/plain": [
       "0.8406285072951739"
      ]
     },
     "execution_count": 245,
     "metadata": {},
     "output_type": "execute_result"
    }
   ],
   "source": [
    "from sklearn import linear_model\n",
    "\n",
    "# 用正则取出我们要的属性值\n",
    "train_np = data_dummies[:891].as_matrix()\n",
    "\n",
    "# y即第0列：Survival结果\n",
    "y = np.array(data_train.Survived)\n",
    "\n",
    "# X即第1列及以后：特征属性值\n",
    "X = train_np\n",
    "\n",
    "# fit到LogisticRegression之中\n",
    "clf = linear_model.LogisticRegression(C=1.0, penalty='l1', tol=1e-6)\n",
    "clf.fit(X, y)\n",
    "sum(clf.predict(X)==y)/X.shape[0]"
   ]
  },
  {
   "cell_type": "code",
   "execution_count": 243,
   "metadata": {},
   "outputs": [
    {
     "data": {
      "text/html": [
       "<div>\n",
       "<style scoped>\n",
       "    .dataframe tbody tr th:only-of-type {\n",
       "        vertical-align: middle;\n",
       "    }\n",
       "\n",
       "    .dataframe tbody tr th {\n",
       "        vertical-align: top;\n",
       "    }\n",
       "\n",
       "    .dataframe thead th {\n",
       "        text-align: right;\n",
       "    }\n",
       "</style>\n",
       "<table border=\"1\" class=\"dataframe\">\n",
       "  <thead>\n",
       "    <tr style=\"text-align: right;\">\n",
       "      <th></th>\n",
       "      <th>Age</th>\n",
       "      <th>Fare</th>\n",
       "      <th>Pclass_1</th>\n",
       "      <th>Pclass_2</th>\n",
       "      <th>Pclass_3</th>\n",
       "      <th>Cabin_A</th>\n",
       "      <th>Cabin_B</th>\n",
       "      <th>Cabin_C</th>\n",
       "      <th>Cabin_D</th>\n",
       "      <th>Cabin_E</th>\n",
       "      <th>...</th>\n",
       "      <th>TicketDup_1</th>\n",
       "      <th>Family_0</th>\n",
       "      <th>Family_1</th>\n",
       "      <th>Family_2</th>\n",
       "      <th>Family_3</th>\n",
       "      <th>Family_4</th>\n",
       "      <th>Family_5</th>\n",
       "      <th>Family_6</th>\n",
       "      <th>Family_7</th>\n",
       "      <th>Family_10</th>\n",
       "    </tr>\n",
       "  </thead>\n",
       "  <tbody>\n",
       "    <tr>\n",
       "      <th>0</th>\n",
       "      <td>22.0</td>\n",
       "      <td>7.2500</td>\n",
       "      <td>0</td>\n",
       "      <td>0</td>\n",
       "      <td>1</td>\n",
       "      <td>0</td>\n",
       "      <td>0</td>\n",
       "      <td>0</td>\n",
       "      <td>0</td>\n",
       "      <td>0</td>\n",
       "      <td>...</td>\n",
       "      <td>0</td>\n",
       "      <td>0</td>\n",
       "      <td>1</td>\n",
       "      <td>0</td>\n",
       "      <td>0</td>\n",
       "      <td>0</td>\n",
       "      <td>0</td>\n",
       "      <td>0</td>\n",
       "      <td>0</td>\n",
       "      <td>0</td>\n",
       "    </tr>\n",
       "    <tr>\n",
       "      <th>1</th>\n",
       "      <td>38.0</td>\n",
       "      <td>71.2833</td>\n",
       "      <td>1</td>\n",
       "      <td>0</td>\n",
       "      <td>0</td>\n",
       "      <td>0</td>\n",
       "      <td>0</td>\n",
       "      <td>1</td>\n",
       "      <td>0</td>\n",
       "      <td>0</td>\n",
       "      <td>...</td>\n",
       "      <td>1</td>\n",
       "      <td>0</td>\n",
       "      <td>1</td>\n",
       "      <td>0</td>\n",
       "      <td>0</td>\n",
       "      <td>0</td>\n",
       "      <td>0</td>\n",
       "      <td>0</td>\n",
       "      <td>0</td>\n",
       "      <td>0</td>\n",
       "    </tr>\n",
       "    <tr>\n",
       "      <th>2</th>\n",
       "      <td>26.0</td>\n",
       "      <td>7.9250</td>\n",
       "      <td>0</td>\n",
       "      <td>0</td>\n",
       "      <td>1</td>\n",
       "      <td>0</td>\n",
       "      <td>0</td>\n",
       "      <td>0</td>\n",
       "      <td>0</td>\n",
       "      <td>0</td>\n",
       "      <td>...</td>\n",
       "      <td>0</td>\n",
       "      <td>1</td>\n",
       "      <td>0</td>\n",
       "      <td>0</td>\n",
       "      <td>0</td>\n",
       "      <td>0</td>\n",
       "      <td>0</td>\n",
       "      <td>0</td>\n",
       "      <td>0</td>\n",
       "      <td>0</td>\n",
       "    </tr>\n",
       "    <tr>\n",
       "      <th>3</th>\n",
       "      <td>35.0</td>\n",
       "      <td>53.1000</td>\n",
       "      <td>1</td>\n",
       "      <td>0</td>\n",
       "      <td>0</td>\n",
       "      <td>0</td>\n",
       "      <td>0</td>\n",
       "      <td>1</td>\n",
       "      <td>0</td>\n",
       "      <td>0</td>\n",
       "      <td>...</td>\n",
       "      <td>1</td>\n",
       "      <td>0</td>\n",
       "      <td>1</td>\n",
       "      <td>0</td>\n",
       "      <td>0</td>\n",
       "      <td>0</td>\n",
       "      <td>0</td>\n",
       "      <td>0</td>\n",
       "      <td>0</td>\n",
       "      <td>0</td>\n",
       "    </tr>\n",
       "    <tr>\n",
       "      <th>4</th>\n",
       "      <td>35.0</td>\n",
       "      <td>8.0500</td>\n",
       "      <td>0</td>\n",
       "      <td>0</td>\n",
       "      <td>1</td>\n",
       "      <td>0</td>\n",
       "      <td>0</td>\n",
       "      <td>0</td>\n",
       "      <td>0</td>\n",
       "      <td>0</td>\n",
       "      <td>...</td>\n",
       "      <td>0</td>\n",
       "      <td>1</td>\n",
       "      <td>0</td>\n",
       "      <td>0</td>\n",
       "      <td>0</td>\n",
       "      <td>0</td>\n",
       "      <td>0</td>\n",
       "      <td>0</td>\n",
       "      <td>0</td>\n",
       "      <td>0</td>\n",
       "    </tr>\n",
       "  </tbody>\n",
       "</table>\n",
       "<p>5 rows × 36 columns</p>\n",
       "</div>"
      ],
      "text/plain": [
       "    Age     Fare  Pclass_1  Pclass_2  Pclass_3  Cabin_A  Cabin_B  Cabin_C  \\\n",
       "0  22.0   7.2500         0         0         1        0        0        0   \n",
       "1  38.0  71.2833         1         0         0        0        0        1   \n",
       "2  26.0   7.9250         0         0         1        0        0        0   \n",
       "3  35.0  53.1000         1         0         0        0        0        1   \n",
       "4  35.0   8.0500         0         0         1        0        0        0   \n",
       "\n",
       "   Cabin_D  Cabin_E    ...      TicketDup_1  Family_0  Family_1  Family_2  \\\n",
       "0        0        0    ...                0         0         1         0   \n",
       "1        0        0    ...                1         0         1         0   \n",
       "2        0        0    ...                0         1         0         0   \n",
       "3        0        0    ...                1         0         1         0   \n",
       "4        0        0    ...                0         1         0         0   \n",
       "\n",
       "   Family_3  Family_4  Family_5  Family_6  Family_7  Family_10  \n",
       "0         0         0         0         0         0          0  \n",
       "1         0         0         0         0         0          0  \n",
       "2         0         0         0         0         0          0  \n",
       "3         0         0         0         0         0          0  \n",
       "4         0         0         0         0         0          0  \n",
       "\n",
       "[5 rows x 36 columns]"
      ]
     },
     "execution_count": 243,
     "metadata": {},
     "output_type": "execute_result"
    }
   ],
   "source": [
    "data_dummies.head()"
   ]
  },
  {
   "cell_type": "code",
   "execution_count": 242,
   "metadata": {},
   "outputs": [],
   "source": [
    "rage = pd.read_csv('Rage.csv')\n",
    "data_dummies.Age = rage.Age\n",
    "data_dummies.Fare = rage.Fare\n",
    "#0.78468"
   ]
  },
  {
   "cell_type": "code",
   "execution_count": 151,
   "metadata": {},
   "outputs": [],
   "source": [
    "predict = clf.predict(data_dummies[891:])\n",
    "predictdf = pd.DataFrame({'PassengerId':data_test.PassengerId,'Survived':predict.astype(int)})\n",
    "predictdf.to_csv('logisAge.csv',index=False)\n",
    "#0.77511"
   ]
  },
  {
   "cell_type": "code",
   "execution_count": 313,
   "metadata": {},
   "outputs": [
    {
     "data": {
      "text/plain": [
       "0"
      ]
     },
     "execution_count": 313,
     "metadata": {},
     "output_type": "execute_result"
    }
   ],
   "source": [
    "ll = pd.read_csv('gender.csv')\n",
    "rr = pd.read_csv('gender_submission.csv')\n",
    "sum(ll.Survived!=rr.Survived)"
   ]
  },
  {
   "cell_type": "code",
   "execution_count": 99,
   "metadata": {},
   "outputs": [
    {
     "data": {
      "text/plain": [
       "RandomForestClassifier(bootstrap=True, class_weight=None, criterion='gini',\n",
       "            max_depth=None, max_features='auto', max_leaf_nodes=None,\n",
       "            min_impurity_decrease=0.0, min_impurity_split=None,\n",
       "            min_samples_leaf=1, min_samples_split=2,\n",
       "            min_weight_fraction_leaf=0.0, n_estimators=10, n_jobs=1,\n",
       "            oob_score=False, random_state=None, verbose=0,\n",
       "            warm_start=False)"
      ]
     },
     "execution_count": 99,
     "metadata": {},
     "output_type": "execute_result"
    }
   ],
   "source": [
    "from sklearn.ensemble import RandomForestClassifier\n",
    "rf = RandomForestClassifier()\n",
    "rf.fit(X,y)"
   ]
  },
  {
   "cell_type": "code",
   "execution_count": 101,
   "metadata": {},
   "outputs": [],
   "source": [
    "predict = rf.predict(data_dummies[891:])\n",
    "predictdf = pd.DataFrame({'PassengerId':data_test.PassengerId,'Survived':predict.astype(int)})\n",
    "predictdf.to_csv('rf.csv',index=False)\n",
    "# 0.71291"
   ]
  },
  {
   "cell_type": "code",
   "execution_count": 280,
   "metadata": {},
   "outputs": [
    {
     "data": {
      "image/png": "[encoded data removed]",
      "text/plain": [
       "<Figure size 432x288 with 1 Axes>"
      ]
     },
     "metadata": {
      "needs_background": "light"
     },
     "output_type": "display_data"
    },
    {
     "data": {
      "text/plain": [
       "(0.8524859866082368, 0.09960042619319176)"
      ]
     },
     "execution_count": 280,
     "metadata": {},
     "output_type": "execute_result"
    }
   ],
   "source": [
    "from sklearn.model_selection import learning_curve\n",
    "\n",
    "# 用sklearn的learning_curve得到training_score和cv_score，使用matplotlib画出learning curve\n",
    "def plot_learning_curve(estimator, title, X, y, ylim=None, cv=None, n_jobs=1, \n",
    "                        train_sizes=np.linspace(.05, 1., 20), verbose=0, plot=True):\n",
    "    \"\"\"\n",
    "    画出data在某模型上的learning curve.\n",
    "    参数解释\n",
    "    ----------\n",
    "    estimator : 你用的分类器。\n",
    "    title : 表格的标题。\n",
    "    X : 输入的feature，numpy类型\n",
    "    y : 输入的target vector\n",
    "    ylim : tuple格式的(ymin, ymax), 设定图像中纵坐标的最低点和最高点\n",
    "    cv : 做cross-validation的时候，数据分成的份数，其中一份作为cv集，其余n-1份作为training(默认为3份)\n",
    "    n_jobs : 并行的的任务数(默认1)\n",
    "    \"\"\"\n",
    "    train_sizes, train_scores, test_scores = learning_curve(\n",
    "        estimator, X, y, cv=cv, n_jobs=n_jobs, train_sizes=train_sizes, verbose=verbose)\n",
    "    \n",
    "    train_scores_mean = np.mean(train_scores, axis=1)\n",
    "    train_scores_std = np.std(train_scores, axis=1)\n",
    "    test_scores_mean = np.mean(test_scores, axis=1)\n",
    "    test_scores_std = np.std(test_scores, axis=1)\n",
    "    \n",
    "    if plot:\n",
    "        plt.figure()\n",
    "        plt.title(title)\n",
    "        if ylim is not None:\n",
    "            plt.ylim(*ylim)\n",
    "        plt.xlabel(u\"训练样本数\")\n",
    "        plt.ylabel(u\"得分\")\n",
    "        plt.gca().invert_yaxis()\n",
    "        plt.grid()\n",
    "    \n",
    "        plt.fill_between(train_sizes, train_scores_mean - train_scores_std, train_scores_mean + train_scores_std, \n",
    "                         alpha=0.1, color=\"b\")\n",
    "        plt.fill_between(train_sizes, test_scores_mean - test_scores_std, test_scores_mean + test_scores_std, \n",
    "                         alpha=0.1, color=\"r\")\n",
    "        plt.plot(train_sizes, train_scores_mean, 'o-', color=\"b\", label=u\"训练集上得分\")\n",
    "        plt.plot(train_sizes, test_scores_mean, 'o-', color=\"r\", label=u\"交叉验证集上得分\")\n",
    "    \n",
    "        plt.legend(loc=\"best\")\n",
    "        \n",
    "        plt.draw()\n",
    "        plt.gca().invert_yaxis()\n",
    "        plt.show()\n",
    "    \n",
    "    midpoint = ((train_scores_mean[-1] + train_scores_std[-1]) + (test_scores_mean[-1] - test_scores_std[-1])) / 2\n",
    "    diff = (train_scores_mean[-1] + train_scores_std[-1]) - (test_scores_mean[-1] - test_scores_std[-1])\n",
    "    return midpoint, diff\n",
    "\n",
    "plot_learning_curve(gbm2, u\"学习曲线\", X, y)"
   ]
  },
  {
   "cell_type": "code",
   "execution_count": 106,
   "metadata": {},
   "outputs": [
    {
     "name": "stderr",
     "output_type": "stream",
     "text": [
      "C:\\ProgramData\\Anaconda3\\lib\\site-packages\\ipykernel\\__main__.py:10: FutureWarning: Method .as_matrix will be removed in a future version. Use .values instead.\n"
     ]
    }
   ],
   "source": [
    "from sklearn.ensemble import BaggingRegressor\n",
    "\n",
    "# fit到BaggingRegressor之中\n",
    "clf1 = linear_model.LogisticRegression(C=1.0, tol=1e-6)\n",
    "bagging_clf = BaggingRegressor(clf1, n_estimators=20, max_samples=0.8, max_features=1.0, bootstrap=True, bootstrap_features=False, n_jobs=-1)\n",
    "bagging_clf.fit(X, y)\n",
    "\n",
    "predictions = bagging_clf.predict(data_dummies[891:])\n",
    "\n",
    "result = pd.DataFrame({'PassengerId':data_test['PassengerId'].as_matrix(), 'Survived':predictions.astype(np.int32)})\n",
    "result.to_csv(\"bagging2.csv\", index=False)\n",
    "#0.7655"
   ]
  },
  {
   "cell_type": "code",
   "execution_count": 180,
   "metadata": {},
   "outputs": [
    {
     "name": "stderr",
     "output_type": "stream",
     "text": [
      "C:\\ProgramData\\Anaconda3\\lib\\site-packages\\ipykernel\\__main__.py:6: FutureWarning: Method .as_matrix will be removed in a future version. Use .values instead.\n"
     ]
    }
   ],
   "source": [
    "from sklearn import svm\n",
    "svmclf = svm.SVC(gamma='auto')\n",
    "svmclf.fit(X,y)\n",
    "predict = svmclf.predict(data_dummies[891:])\n",
    "# sum(predict==y)/y.shape[0]\n",
    "result = pd.DataFrame({'PassengerId':data_test['PassengerId'].as_matrix(), 'Survived':predict.astype(np.int32)})\n",
    "result.to_csv(\"svm.csv\", index=False)"
   ]
  },
  {
   "cell_type": "code",
   "execution_count": 247,
   "metadata": {},
   "outputs": [
    {
     "name": "stdout",
     "output_type": "stream",
     "text": [
      "0.9281705948372615\n",
      "0.9281705948372615\n"
     ]
    }
   ],
   "source": [
    "from sklearn.ensemble import GradientBoostingClassifier\n",
    "from sklearn import cross_validation, metrics\n",
    "from sklearn.grid_search import GridSearchCV\n",
    "gbm0 = GradientBoostingClassifier(learning_rate=0.1, n_estimators=100,max_depth=13, min_samples_leaf =5, \n",
    "               min_samples_split =50, max_features='sqrt', subsample=0.8, random_state=10)\n",
    "gbm0.fit(X,y)\n",
    "y_pred = gbm0.predict(X)\n",
    "y_predprob = gbm0.predict_proba(X)[:,1]\n",
    "print(metrics.accuracy_score(y, y_pred))\n",
    "print(metrics.accuracy_score(y, y_pred))"
   ]
  },
  {
   "cell_type": "code",
   "execution_count": 250,
   "metadata": {},
   "outputs": [
    {
     "data": {
      "text/plain": [
       "([mean: 0.87038, std: 0.02061, params: {'n_estimators': 20},\n",
       "  mean: 0.87191, std: 0.02291, params: {'n_estimators': 30},\n",
       "  mean: 0.87172, std: 0.01902, params: {'n_estimators': 40},\n",
       "  mean: 0.87445, std: 0.02153, params: {'n_estimators': 50},\n",
       "  mean: 0.87508, std: 0.02156, params: {'n_estimators': 60},\n",
       "  mean: 0.87449, std: 0.02292, params: {'n_estimators': 70},\n",
       "  mean: 0.87324, std: 0.02409, params: {'n_estimators': 80},\n",
       "  mean: 0.87193, std: 0.02473, params: {'n_estimators': 90},\n",
       "  mean: 0.87222, std: 0.02529, params: {'n_estimators': 100},\n",
       "  mean: 0.87112, std: 0.02444, params: {'n_estimators': 110},\n",
       "  mean: 0.87011, std: 0.02643, params: {'n_estimators': 120}],\n",
       " {'n_estimators': 60},\n",
       " 0.8750840551980301)"
      ]
     },
     "execution_count": 250,
     "metadata": {},
     "output_type": "execute_result"
    }
   ],
   "source": [
    "param_test1 = {'n_estimators':list(range(20,121,10))}\n",
    "gsearch1 = GridSearchCV(estimator = GradientBoostingClassifier(learning_rate=0.2, min_samples_split=30,\n",
    "                                  min_samples_leaf=20,max_depth=5,max_features='sqrt', subsample=0.8,random_state=10), \n",
    "                       param_grid = param_test1, scoring='roc_auc',iid=False,cv=5)\n",
    "gsearch1.fit(X,y)\n",
    "gsearch1.grid_scores_, gsearch1.best_params_, gsearch1.best_score_"
   ]
  },
  {
   "cell_type": "code",
   "execution_count": 254,
   "metadata": {},
   "outputs": [
    {
     "data": {
      "text/plain": [
       "([mean: 0.87514, std: 0.03111, params: {'min_samples_split': 5},\n",
       "  mean: 0.87514, std: 0.03111, params: {'min_samples_split': 15},\n",
       "  mean: 0.87514, std: 0.03111, params: {'min_samples_split': 25},\n",
       "  mean: 0.87514, std: 0.03111, params: {'min_samples_split': 35},\n",
       "  mean: 0.87305, std: 0.02766, params: {'min_samples_split': 45},\n",
       "  mean: 0.87217, std: 0.02198, params: {'min_samples_split': 55},\n",
       "  mean: 0.87737, std: 0.02973, params: {'min_samples_split': 65},\n",
       "  mean: 0.87495, std: 0.02488, params: {'min_samples_split': 75},\n",
       "  mean: 0.87785, std: 0.03002, params: {'min_samples_split': 85},\n",
       "  mean: 0.87423, std: 0.02953, params: {'min_samples_split': 95},\n",
       "  mean: 0.87143, std: 0.02635, params: {'min_samples_split': 105},\n",
       "  mean: 0.87062, std: 0.02720, params: {'min_samples_split': 115},\n",
       "  mean: 0.87228, std: 0.02739, params: {'min_samples_split': 125},\n",
       "  mean: 0.87040, std: 0.03016, params: {'min_samples_split': 135},\n",
       "  mean: 0.86982, std: 0.02810, params: {'min_samples_split': 145},\n",
       "  mean: 0.87107, std: 0.02995, params: {'min_samples_split': 155},\n",
       "  mean: 0.86830, std: 0.02730, params: {'min_samples_split': 165},\n",
       "  mean: 0.86943, std: 0.02923, params: {'min_samples_split': 175},\n",
       "  mean: 0.87091, std: 0.02897, params: {'min_samples_split': 185},\n",
       "  mean: 0.87334, std: 0.02898, params: {'min_samples_split': 195}],\n",
       " {'min_samples_split': 85},\n",
       " 0.8778483685964504)"
      ]
     },
     "execution_count": 254,
     "metadata": {},
     "output_type": "execute_result"
    }
   ],
   "source": [
    "param_test2 = { 'min_samples_split':list(range(5,200,10))}\n",
    "gsearch2 = GridSearchCV(estimator = GradientBoostingClassifier(learning_rate=0.2, n_estimators=60, max_depth=11,min_samples_leaf=20, \n",
    "      max_features='sqrt', subsample=0.8, random_state=10), \n",
    "   param_grid = param_test2, scoring='roc_auc',iid=False, cv=5)\n",
    "gsearch2.fit(X,y)\n",
    "gsearch2.grid_scores_, gsearch2.best_params_, gsearch2.best_score_"
   ]
  },
  {
   "cell_type": "code",
   "execution_count": 261,
   "metadata": {},
   "outputs": [
    {
     "data": {
      "text/plain": [
       "([mean: 0.85992, std: 0.04178, params: {'min_samples_leaf': 2, 'min_samples_split': 2},\n",
       "  mean: 0.85793, std: 0.04133, params: {'min_samples_leaf': 2, 'min_samples_split': 7},\n",
       "  mean: 0.86724, std: 0.03409, params: {'min_samples_leaf': 2, 'min_samples_split': 12},\n",
       "  mean: 0.87215, std: 0.02917, params: {'min_samples_leaf': 2, 'min_samples_split': 17},\n",
       "  mean: 0.87362, std: 0.03085, params: {'min_samples_leaf': 2, 'min_samples_split': 22},\n",
       "  mean: 0.86558, std: 0.03453, params: {'min_samples_leaf': 2, 'min_samples_split': 27},\n",
       "  mean: 0.87079, std: 0.03682, params: {'min_samples_leaf': 2, 'min_samples_split': 32},\n",
       "  mean: 0.87172, std: 0.03278, params: {'min_samples_leaf': 2, 'min_samples_split': 37},\n",
       "  mean: 0.87147, std: 0.03118, params: {'min_samples_leaf': 2, 'min_samples_split': 42},\n",
       "  mean: 0.86939, std: 0.03476, params: {'min_samples_leaf': 2, 'min_samples_split': 47},\n",
       "  mean: 0.87514, std: 0.02827, params: {'min_samples_leaf': 2, 'min_samples_split': 52},\n",
       "  mean: 0.87112, std: 0.03213, params: {'min_samples_leaf': 2, 'min_samples_split': 57},\n",
       "  mean: 0.87299, std: 0.03175, params: {'min_samples_leaf': 2, 'min_samples_split': 62},\n",
       "  mean: 0.87821, std: 0.03367, params: {'min_samples_leaf': 2, 'min_samples_split': 67},\n",
       "  mean: 0.87830, std: 0.03879, params: {'min_samples_leaf': 2, 'min_samples_split': 72},\n",
       "  mean: 0.87067, std: 0.03465, params: {'min_samples_leaf': 2, 'min_samples_split': 77},\n",
       "  mean: 0.87679, std: 0.03727, params: {'min_samples_leaf': 2, 'min_samples_split': 82},\n",
       "  mean: 0.87919, std: 0.03290, params: {'min_samples_leaf': 2, 'min_samples_split': 87},\n",
       "  mean: 0.87883, std: 0.03063, params: {'min_samples_leaf': 2, 'min_samples_split': 92},\n",
       "  mean: 0.87330, std: 0.03519, params: {'min_samples_leaf': 2, 'min_samples_split': 97},\n",
       "  mean: 0.87259, std: 0.03414, params: {'min_samples_leaf': 7, 'min_samples_split': 2},\n",
       "  mean: 0.87259, std: 0.03414, params: {'min_samples_leaf': 7, 'min_samples_split': 7},\n",
       "  mean: 0.87259, std: 0.03414, params: {'min_samples_leaf': 7, 'min_samples_split': 12},\n",
       "  mean: 0.87307, std: 0.03273, params: {'min_samples_leaf': 7, 'min_samples_split': 17},\n",
       "  mean: 0.86912, std: 0.03136, params: {'min_samples_leaf': 7, 'min_samples_split': 22},\n",
       "  mean: 0.87213, std: 0.02990, params: {'min_samples_leaf': 7, 'min_samples_split': 27},\n",
       "  mean: 0.86676, std: 0.03309, params: {'min_samples_leaf': 7, 'min_samples_split': 32},\n",
       "  mean: 0.87234, std: 0.03285, params: {'min_samples_leaf': 7, 'min_samples_split': 37},\n",
       "  mean: 0.87067, std: 0.03175, params: {'min_samples_leaf': 7, 'min_samples_split': 42},\n",
       "  mean: 0.87381, std: 0.03073, params: {'min_samples_leaf': 7, 'min_samples_split': 47},\n",
       "  mean: 0.87486, std: 0.03226, params: {'min_samples_leaf': 7, 'min_samples_split': 52},\n",
       "  mean: 0.87287, std: 0.03057, params: {'min_samples_leaf': 7, 'min_samples_split': 57},\n",
       "  mean: 0.87488, std: 0.02907, params: {'min_samples_leaf': 7, 'min_samples_split': 62},\n",
       "  mean: 0.87199, std: 0.03037, params: {'min_samples_leaf': 7, 'min_samples_split': 67},\n",
       "  mean: 0.87606, std: 0.03141, params: {'min_samples_leaf': 7, 'min_samples_split': 72},\n",
       "  mean: 0.87528, std: 0.02940, params: {'min_samples_leaf': 7, 'min_samples_split': 77},\n",
       "  mean: 0.87503, std: 0.03256, params: {'min_samples_leaf': 7, 'min_samples_split': 82},\n",
       "  mean: 0.87675, std: 0.02895, params: {'min_samples_leaf': 7, 'min_samples_split': 87},\n",
       "  mean: 0.87780, std: 0.03078, params: {'min_samples_leaf': 7, 'min_samples_split': 92},\n",
       "  mean: 0.87405, std: 0.03112, params: {'min_samples_leaf': 7, 'min_samples_split': 97},\n",
       "  mean: 0.87122, std: 0.03436, params: {'min_samples_leaf': 12, 'min_samples_split': 2},\n",
       "  mean: 0.87122, std: 0.03436, params: {'min_samples_leaf': 12, 'min_samples_split': 7},\n",
       "  mean: 0.87122, std: 0.03436, params: {'min_samples_leaf': 12, 'min_samples_split': 12},\n",
       "  mean: 0.87122, std: 0.03436, params: {'min_samples_leaf': 12, 'min_samples_split': 17},\n",
       "  mean: 0.87122, std: 0.03436, params: {'min_samples_leaf': 12, 'min_samples_split': 22},\n",
       "  mean: 0.87299, std: 0.03080, params: {'min_samples_leaf': 12, 'min_samples_split': 27},\n",
       "  mean: 0.87323, std: 0.02659, params: {'min_samples_leaf': 12, 'min_samples_split': 32},\n",
       "  mean: 0.87077, std: 0.03176, params: {'min_samples_leaf': 12, 'min_samples_split': 37},\n",
       "  mean: 0.87278, std: 0.03062, params: {'min_samples_leaf': 12, 'min_samples_split': 42},\n",
       "  mean: 0.87561, std: 0.03214, params: {'min_samples_leaf': 12, 'min_samples_split': 47},\n",
       "  mean: 0.86564, std: 0.02685, params: {'min_samples_leaf': 12, 'min_samples_split': 52},\n",
       "  mean: 0.87653, std: 0.02924, params: {'min_samples_leaf': 12, 'min_samples_split': 57},\n",
       "  mean: 0.87295, std: 0.03328, params: {'min_samples_leaf': 12, 'min_samples_split': 62},\n",
       "  mean: 0.87521, std: 0.02981, params: {'min_samples_leaf': 12, 'min_samples_split': 67},\n",
       "  mean: 0.87382, std: 0.03301, params: {'min_samples_leaf': 12, 'min_samples_split': 72},\n",
       "  mean: 0.87581, std: 0.03231, params: {'min_samples_leaf': 12, 'min_samples_split': 77},\n",
       "  mean: 0.87170, std: 0.03162, params: {'min_samples_leaf': 12, 'min_samples_split': 82},\n",
       "  mean: 0.87155, std: 0.02803, params: {'min_samples_leaf': 12, 'min_samples_split': 87},\n",
       "  mean: 0.87088, std: 0.02564, params: {'min_samples_leaf': 12, 'min_samples_split': 92},\n",
       "  mean: 0.87211, std: 0.02713, params: {'min_samples_leaf': 12, 'min_samples_split': 97},\n",
       "  mean: 0.87508, std: 0.02263, params: {'min_samples_leaf': 17, 'min_samples_split': 2},\n",
       "  mean: 0.87508, std: 0.02263, params: {'min_samples_leaf': 17, 'min_samples_split': 7},\n",
       "  mean: 0.87508, std: 0.02263, params: {'min_samples_leaf': 17, 'min_samples_split': 12},\n",
       "  mean: 0.87508, std: 0.02263, params: {'min_samples_leaf': 17, 'min_samples_split': 17},\n",
       "  mean: 0.87508, std: 0.02263, params: {'min_samples_leaf': 17, 'min_samples_split': 22},\n",
       "  mean: 0.87508, std: 0.02263, params: {'min_samples_leaf': 17, 'min_samples_split': 27},\n",
       "  mean: 0.87508, std: 0.02263, params: {'min_samples_leaf': 17, 'min_samples_split': 32},\n",
       "  mean: 0.87164, std: 0.02844, params: {'min_samples_leaf': 17, 'min_samples_split': 37},\n",
       "  mean: 0.87228, std: 0.02899, params: {'min_samples_leaf': 17, 'min_samples_split': 42},\n",
       "  mean: 0.87489, std: 0.02730, params: {'min_samples_leaf': 17, 'min_samples_split': 47},\n",
       "  mean: 0.86978, std: 0.02286, params: {'min_samples_leaf': 17, 'min_samples_split': 52},\n",
       "  mean: 0.87543, std: 0.02886, params: {'min_samples_leaf': 17, 'min_samples_split': 57},\n",
       "  mean: 0.87454, std: 0.02557, params: {'min_samples_leaf': 17, 'min_samples_split': 62},\n",
       "  mean: 0.87797, std: 0.02942, params: {'min_samples_leaf': 17, 'min_samples_split': 67},\n",
       "  mean: 0.87614, std: 0.03171, params: {'min_samples_leaf': 17, 'min_samples_split': 72},\n",
       "  mean: 0.87521, std: 0.02789, params: {'min_samples_leaf': 17, 'min_samples_split': 77},\n",
       "  mean: 0.87564, std: 0.02980, params: {'min_samples_leaf': 17, 'min_samples_split': 82},\n",
       "  mean: 0.87637, std: 0.03206, params: {'min_samples_leaf': 17, 'min_samples_split': 87},\n",
       "  mean: 0.87435, std: 0.02724, params: {'min_samples_leaf': 17, 'min_samples_split': 92},\n",
       "  mean: 0.87484, std: 0.03245, params: {'min_samples_leaf': 17, 'min_samples_split': 97},\n",
       "  mean: 0.87708, std: 0.02594, params: {'min_samples_leaf': 22, 'min_samples_split': 2},\n",
       "  mean: 0.87708, std: 0.02594, params: {'min_samples_leaf': 22, 'min_samples_split': 7},\n",
       "  mean: 0.87708, std: 0.02594, params: {'min_samples_leaf': 22, 'min_samples_split': 12},\n",
       "  mean: 0.87708, std: 0.02594, params: {'min_samples_leaf': 22, 'min_samples_split': 17},\n",
       "  mean: 0.87708, std: 0.02594, params: {'min_samples_leaf': 22, 'min_samples_split': 22},\n",
       "  mean: 0.87708, std: 0.02594, params: {'min_samples_leaf': 22, 'min_samples_split': 27},\n",
       "  mean: 0.87708, std: 0.02594, params: {'min_samples_leaf': 22, 'min_samples_split': 32},\n",
       "  mean: 0.87708, std: 0.02594, params: {'min_samples_leaf': 22, 'min_samples_split': 37},\n",
       "  mean: 0.87708, std: 0.02594, params: {'min_samples_leaf': 22, 'min_samples_split': 42},\n",
       "  mean: 0.87510, std: 0.02882, params: {'min_samples_leaf': 22, 'min_samples_split': 47},\n",
       "  mean: 0.87468, std: 0.02378, params: {'min_samples_leaf': 22, 'min_samples_split': 52},\n",
       "  mean: 0.87623, std: 0.02422, params: {'min_samples_leaf': 22, 'min_samples_split': 57},\n",
       "  mean: 0.87789, std: 0.02494, params: {'min_samples_leaf': 22, 'min_samples_split': 62},\n",
       "  mean: 0.87293, std: 0.02632, params: {'min_samples_leaf': 22, 'min_samples_split': 67},\n",
       "  mean: 0.87738, std: 0.02678, params: {'min_samples_leaf': 22, 'min_samples_split': 72},\n",
       "  mean: 0.87748, std: 0.02853, params: {'min_samples_leaf': 22, 'min_samples_split': 77},\n",
       "  mean: 0.87745, std: 0.03022, params: {'min_samples_leaf': 22, 'min_samples_split': 82},\n",
       "  mean: 0.87762, std: 0.02820, params: {'min_samples_leaf': 22, 'min_samples_split': 87},\n",
       "  mean: 0.87240, std: 0.03057, params: {'min_samples_leaf': 22, 'min_samples_split': 92},\n",
       "  mean: 0.87306, std: 0.02776, params: {'min_samples_leaf': 22, 'min_samples_split': 97},\n",
       "  mean: 0.87861, std: 0.02612, params: {'min_samples_leaf': 27, 'min_samples_split': 2},\n",
       "  mean: 0.87861, std: 0.02612, params: {'min_samples_leaf': 27, 'min_samples_split': 7},\n",
       "  mean: 0.87861, std: 0.02612, params: {'min_samples_leaf': 27, 'min_samples_split': 12},\n",
       "  mean: 0.87861, std: 0.02612, params: {'min_samples_leaf': 27, 'min_samples_split': 17},\n",
       "  mean: 0.87861, std: 0.02612, params: {'min_samples_leaf': 27, 'min_samples_split': 22},\n",
       "  mean: 0.87861, std: 0.02612, params: {'min_samples_leaf': 27, 'min_samples_split': 27},\n",
       "  mean: 0.87861, std: 0.02612, params: {'min_samples_leaf': 27, 'min_samples_split': 32},\n",
       "  mean: 0.87861, std: 0.02612, params: {'min_samples_leaf': 27, 'min_samples_split': 37},\n",
       "  mean: 0.87861, std: 0.02612, params: {'min_samples_leaf': 27, 'min_samples_split': 42},\n",
       "  mean: 0.87861, std: 0.02612, params: {'min_samples_leaf': 27, 'min_samples_split': 47},\n",
       "  mean: 0.87861, std: 0.02612, params: {'min_samples_leaf': 27, 'min_samples_split': 52},\n",
       "  mean: 0.86981, std: 0.02582, params: {'min_samples_leaf': 27, 'min_samples_split': 57},\n",
       "  mean: 0.87466, std: 0.02648, params: {'min_samples_leaf': 27, 'min_samples_split': 62},\n",
       "  mean: 0.87746, std: 0.02591, params: {'min_samples_leaf': 27, 'min_samples_split': 67},\n",
       "  mean: 0.87732, std: 0.02763, params: {'min_samples_leaf': 27, 'min_samples_split': 72},\n",
       "  mean: 0.88110, std: 0.02753, params: {'min_samples_leaf': 27, 'min_samples_split': 77},\n",
       "  mean: 0.87516, std: 0.02935, params: {'min_samples_leaf': 27, 'min_samples_split': 82},\n",
       "  mean: 0.87682, std: 0.02768, params: {'min_samples_leaf': 27, 'min_samples_split': 87},\n",
       "  mean: 0.87425, std: 0.02818, params: {'min_samples_leaf': 27, 'min_samples_split': 92},\n",
       "  mean: 0.87506, std: 0.02879, params: {'min_samples_leaf': 27, 'min_samples_split': 97},\n",
       "  mean: 0.87405, std: 0.02562, params: {'min_samples_leaf': 32, 'min_samples_split': 2},\n",
       "  mean: 0.87405, std: 0.02562, params: {'min_samples_leaf': 32, 'min_samples_split': 7},\n",
       "  mean: 0.87405, std: 0.02562, params: {'min_samples_leaf': 32, 'min_samples_split': 12},\n",
       "  mean: 0.87405, std: 0.02562, params: {'min_samples_leaf': 32, 'min_samples_split': 17},\n",
       "  mean: 0.87405, std: 0.02562, params: {'min_samples_leaf': 32, 'min_samples_split': 22},\n",
       "  mean: 0.87405, std: 0.02562, params: {'min_samples_leaf': 32, 'min_samples_split': 27},\n",
       "  mean: 0.87405, std: 0.02562, params: {'min_samples_leaf': 32, 'min_samples_split': 32},\n",
       "  mean: 0.87405, std: 0.02562, params: {'min_samples_leaf': 32, 'min_samples_split': 37},\n",
       "  mean: 0.87405, std: 0.02562, params: {'min_samples_leaf': 32, 'min_samples_split': 42},\n",
       "  mean: 0.87405, std: 0.02562, params: {'min_samples_leaf': 32, 'min_samples_split': 47},\n",
       "  mean: 0.87405, std: 0.02562, params: {'min_samples_leaf': 32, 'min_samples_split': 52},\n",
       "  mean: 0.87405, std: 0.02562, params: {'min_samples_leaf': 32, 'min_samples_split': 57},\n",
       "  mean: 0.87405, std: 0.02562, params: {'min_samples_leaf': 32, 'min_samples_split': 62},\n",
       "  mean: 0.87464, std: 0.02779, params: {'min_samples_leaf': 32, 'min_samples_split': 67},\n",
       "  mean: 0.87697, std: 0.02752, params: {'min_samples_leaf': 32, 'min_samples_split': 72},\n",
       "  mean: 0.87449, std: 0.02672, params: {'min_samples_leaf': 32, 'min_samples_split': 77},\n",
       "  mean: 0.87311, std: 0.02566, params: {'min_samples_leaf': 32, 'min_samples_split': 82},\n",
       "  mean: 0.87213, std: 0.02968, params: {'min_samples_leaf': 32, 'min_samples_split': 87},\n",
       "  mean: 0.87577, std: 0.02776, params: {'min_samples_leaf': 32, 'min_samples_split': 92},\n",
       "  mean: 0.87491, std: 0.02530, params: {'min_samples_leaf': 32, 'min_samples_split': 97},\n",
       "  mean: 0.87214, std: 0.02742, params: {'min_samples_leaf': 37, 'min_samples_split': 2},\n",
       "  mean: 0.87214, std: 0.02742, params: {'min_samples_leaf': 37, 'min_samples_split': 7},\n",
       "  mean: 0.87214, std: 0.02742, params: {'min_samples_leaf': 37, 'min_samples_split': 12},\n",
       "  mean: 0.87214, std: 0.02742, params: {'min_samples_leaf': 37, 'min_samples_split': 17},\n",
       "  mean: 0.87214, std: 0.02742, params: {'min_samples_leaf': 37, 'min_samples_split': 22},\n",
       "  mean: 0.87214, std: 0.02742, params: {'min_samples_leaf': 37, 'min_samples_split': 27},\n",
       "  mean: 0.87214, std: 0.02742, params: {'min_samples_leaf': 37, 'min_samples_split': 32},\n",
       "  mean: 0.87214, std: 0.02742, params: {'min_samples_leaf': 37, 'min_samples_split': 37},\n",
       "  mean: 0.87214, std: 0.02742, params: {'min_samples_leaf': 37, 'min_samples_split': 42},\n",
       "  mean: 0.87214, std: 0.02742, params: {'min_samples_leaf': 37, 'min_samples_split': 47},\n",
       "  mean: 0.87214, std: 0.02742, params: {'min_samples_leaf': 37, 'min_samples_split': 52},\n",
       "  mean: 0.87214, std: 0.02742, params: {'min_samples_leaf': 37, 'min_samples_split': 57},\n",
       "  mean: 0.87214, std: 0.02742, params: {'min_samples_leaf': 37, 'min_samples_split': 62},\n",
       "  mean: 0.87214, std: 0.02742, params: {'min_samples_leaf': 37, 'min_samples_split': 67},\n",
       "  mean: 0.87214, std: 0.02742, params: {'min_samples_leaf': 37, 'min_samples_split': 72},\n",
       "  mean: 0.87727, std: 0.02938, params: {'min_samples_leaf': 37, 'min_samples_split': 77},\n",
       "  mean: 0.87485, std: 0.02889, params: {'min_samples_leaf': 37, 'min_samples_split': 82},\n",
       "  mean: 0.87161, std: 0.02542, params: {'min_samples_leaf': 37, 'min_samples_split': 87},\n",
       "  mean: 0.87712, std: 0.02710, params: {'min_samples_leaf': 37, 'min_samples_split': 92},\n",
       "  mean: 0.87143, std: 0.02579, params: {'min_samples_leaf': 37, 'min_samples_split': 97},\n",
       "  mean: 0.87476, std: 0.02769, params: {'min_samples_leaf': 42, 'min_samples_split': 2},\n",
       "  mean: 0.87476, std: 0.02769, params: {'min_samples_leaf': 42, 'min_samples_split': 7},\n",
       "  mean: 0.87476, std: 0.02769, params: {'min_samples_leaf': 42, 'min_samples_split': 12},\n",
       "  mean: 0.87476, std: 0.02769, params: {'min_samples_leaf': 42, 'min_samples_split': 17},\n",
       "  mean: 0.87476, std: 0.02769, params: {'min_samples_leaf': 42, 'min_samples_split': 22},\n",
       "  mean: 0.87476, std: 0.02769, params: {'min_samples_leaf': 42, 'min_samples_split': 27},\n",
       "  mean: 0.87476, std: 0.02769, params: {'min_samples_leaf': 42, 'min_samples_split': 32},\n",
       "  mean: 0.87476, std: 0.02769, params: {'min_samples_leaf': 42, 'min_samples_split': 37},\n",
       "  mean: 0.87476, std: 0.02769, params: {'min_samples_leaf': 42, 'min_samples_split': 42},\n",
       "  mean: 0.87476, std: 0.02769, params: {'min_samples_leaf': 42, 'min_samples_split': 47},\n",
       "  mean: 0.87476, std: 0.02769, params: {'min_samples_leaf': 42, 'min_samples_split': 52},\n",
       "  mean: 0.87476, std: 0.02769, params: {'min_samples_leaf': 42, 'min_samples_split': 57},\n",
       "  mean: 0.87476, std: 0.02769, params: {'min_samples_leaf': 42, 'min_samples_split': 62},\n",
       "  mean: 0.87476, std: 0.02769, params: {'min_samples_leaf': 42, 'min_samples_split': 67},\n",
       "  mean: 0.87476, std: 0.02769, params: {'min_samples_leaf': 42, 'min_samples_split': 72},\n",
       "  mean: 0.87476, std: 0.02769, params: {'min_samples_leaf': 42, 'min_samples_split': 77},\n",
       "  mean: 0.87476, std: 0.02769, params: {'min_samples_leaf': 42, 'min_samples_split': 82},\n",
       "  mean: 0.87491, std: 0.02647, params: {'min_samples_leaf': 42, 'min_samples_split': 87},\n",
       "  mean: 0.86885, std: 0.02710, params: {'min_samples_leaf': 42, 'min_samples_split': 92},\n",
       "  mean: 0.86957, std: 0.02780, params: {'min_samples_leaf': 42, 'min_samples_split': 97},\n",
       "  mean: 0.86909, std: 0.02773, params: {'min_samples_leaf': 47, 'min_samples_split': 2},\n",
       "  mean: 0.86909, std: 0.02773, params: {'min_samples_leaf': 47, 'min_samples_split': 7},\n",
       "  mean: 0.86909, std: 0.02773, params: {'min_samples_leaf': 47, 'min_samples_split': 12},\n",
       "  mean: 0.86909, std: 0.02773, params: {'min_samples_leaf': 47, 'min_samples_split': 17},\n",
       "  mean: 0.86909, std: 0.02773, params: {'min_samples_leaf': 47, 'min_samples_split': 22},\n",
       "  mean: 0.86909, std: 0.02773, params: {'min_samples_leaf': 47, 'min_samples_split': 27},\n",
       "  mean: 0.86909, std: 0.02773, params: {'min_samples_leaf': 47, 'min_samples_split': 32},\n",
       "  mean: 0.86909, std: 0.02773, params: {'min_samples_leaf': 47, 'min_samples_split': 37},\n",
       "  mean: 0.86909, std: 0.02773, params: {'min_samples_leaf': 47, 'min_samples_split': 42},\n",
       "  mean: 0.86909, std: 0.02773, params: {'min_samples_leaf': 47, 'min_samples_split': 47},\n",
       "  mean: 0.86909, std: 0.02773, params: {'min_samples_leaf': 47, 'min_samples_split': 52},\n",
       "  mean: 0.86909, std: 0.02773, params: {'min_samples_leaf': 47, 'min_samples_split': 57},\n",
       "  mean: 0.86909, std: 0.02773, params: {'min_samples_leaf': 47, 'min_samples_split': 62},\n",
       "  mean: 0.86909, std: 0.02773, params: {'min_samples_leaf': 47, 'min_samples_split': 67},\n",
       "  mean: 0.86909, std: 0.02773, params: {'min_samples_leaf': 47, 'min_samples_split': 72},\n",
       "  mean: 0.86909, std: 0.02773, params: {'min_samples_leaf': 47, 'min_samples_split': 77},\n",
       "  mean: 0.86909, std: 0.02773, params: {'min_samples_leaf': 47, 'min_samples_split': 82},\n",
       "  mean: 0.86909, std: 0.02773, params: {'min_samples_leaf': 47, 'min_samples_split': 87},\n",
       "  mean: 0.86909, std: 0.02773, params: {'min_samples_leaf': 47, 'min_samples_split': 92},\n",
       "  mean: 0.86832, std: 0.02748, params: {'min_samples_leaf': 47, 'min_samples_split': 97}],\n",
       " {'min_samples_leaf': 27, 'min_samples_split': 77},\n",
       " 0.8811043961044549)"
      ]
     },
     "execution_count": 261,
     "metadata": {},
     "output_type": "execute_result"
    }
   ],
   "source": [
    "param_test3 = {'min_samples_split':list(range(2,100,5)), 'min_samples_leaf':list(range(2,51,5))}\n",
    "gsearch3 = GridSearchCV(estimator = GradientBoostingClassifier(learning_rate=0.2, n_estimators=60,max_depth=11,\n",
    "                                     max_features='sqrt', subsample=0.8, random_state=10), \n",
    "                       param_grid = param_test3, scoring='roc_auc',iid=False, cv=5)\n",
    "gsearch3.fit(X,y)\n",
    "gsearch3.grid_scores_, gsearch3.best_params_, gsearch3.best_score_"
   ]
  },
  {
   "cell_type": "code",
   "execution_count": 265,
   "metadata": {},
   "outputs": [
    {
     "data": {
      "text/plain": [
       "([mean: 0.87017, std: 0.02151, params: {'max_features': 3},\n",
       "  mean: 0.86968, std: 0.02746, params: {'max_features': 5},\n",
       "  mean: 0.87414, std: 0.02788, params: {'max_features': 7},\n",
       "  mean: 0.87449, std: 0.02968, params: {'max_features': 9},\n",
       "  mean: 0.87857, std: 0.02557, params: {'max_features': 11},\n",
       "  mean: 0.87635, std: 0.02917, params: {'max_features': 13},\n",
       "  mean: 0.87817, std: 0.02745, params: {'max_features': 15},\n",
       "  mean: 0.88262, std: 0.02999, params: {'max_features': 17},\n",
       "  mean: 0.87862, std: 0.02972, params: {'max_features': 19}],\n",
       " {'max_features': 17},\n",
       " 0.8826241994785369)"
      ]
     },
     "execution_count": 265,
     "metadata": {},
     "output_type": "execute_result"
    }
   ],
   "source": [
    "\n",
    "param_test4 = {'max_features':list(range(3,20,2))}\n",
    "gsearch4 = GridSearchCV(estimator = GradientBoostingClassifier(learning_rate=0.2, n_estimators=60,max_depth=11,\n",
    "                                    min_samples_split=77 ,min_samples_leaf=27,max_features='sqrt', subsample=0.8, random_state=10), \n",
    "                       param_grid = param_test4, scoring='roc_auc',iid=False, cv=5)\n",
    "gsearch4.fit(X,y)\n",
    "gsearch4.grid_scores_, gsearch4.best_params_, gsearch4.best_score_"
   ]
  },
  {
   "cell_type": "code",
   "execution_count": 268,
   "metadata": {},
   "outputs": [
    {
     "data": {
      "text/plain": [
       "([mean: 0.87898, std: 0.02581, params: {'subsample': 0.6},\n",
       "  mean: 0.88060, std: 0.02468, params: {'subsample': 0.7},\n",
       "  mean: 0.87746, std: 0.02880, params: {'subsample': 0.75},\n",
       "  mean: 0.88262, std: 0.02999, params: {'subsample': 0.8},\n",
       "  mean: 0.87731, std: 0.02631, params: {'subsample': 0.85},\n",
       "  mean: 0.87138, std: 0.02838, params: {'subsample': 0.9}],\n",
       " {'subsample': 0.8},\n",
       " 0.8826241994785369)"
      ]
     },
     "execution_count": 268,
     "metadata": {},
     "output_type": "execute_result"
    }
   ],
   "source": [
    "param_test5 = {'subsample':[0.6,0.7,0.75,0.8,0.85,0.9]}\n",
    "gsearch5 = GridSearchCV(estimator = GradientBoostingClassifier(learning_rate=0.2, n_estimators=60,max_depth=11,max_features=17,\n",
    "                                    min_samples_split=77 ,min_samples_leaf=27, random_state=10), \n",
    "                       param_grid = param_test5, scoring='roc_auc',iid=False, cv=5)\n",
    "gsearch5.fit(X,y)\n",
    "gsearch5.grid_scores_, gsearch5.best_params_, gsearch5.best_score_"
   ]
  },
  {
   "cell_type": "code",
   "execution_count": 304,
   "metadata": {},
   "outputs": [
    {
     "name": "stdout",
     "output_type": "stream",
     "text": [
      "0.9046015712682379\n",
      "0.9642065850722739\n"
     ]
    }
   ],
   "source": [
    "gbm2 = GradientBoostingClassifier(learning_rate=0.01, n_estimators=1000,max_depth=11,max_features=17,\n",
    "                                    min_samples_split=77 ,min_samples_leaf=27,subsample=0.8, random_state=10)\n",
    "gbm2.fit(X,y)\n",
    "y_pred = gbm2.predict(X)\n",
    "y_predprob = gbm2.predict_proba(X)[:,1]\n",
    "print(metrics.accuracy_score(y, y_pred))\n",
    "print(metrics.roc_auc_score(y, y_predprob))"
   ]
  },
  {
   "cell_type": "code",
   "execution_count": 312,
   "metadata": {},
   "outputs": [
    {
     "name": "stderr",
     "output_type": "stream",
     "text": [
      "C:\\ProgramData\\Anaconda3\\lib\\site-packages\\ipykernel\\__main__.py:2: SettingWithCopyWarning: \n",
      "A value is trying to be set on a copy of a slice from a DataFrame\n",
      "\n",
      "See the caveats in the documentation: http://pandas.pydata.org/pandas-docs/stable/indexing.html#indexing-view-versus-copy\n",
      "  from ipykernel import kernelapp as app\n",
      "C:\\ProgramData\\Anaconda3\\lib\\site-packages\\ipykernel\\__main__.py:3: SettingWithCopyWarning: \n",
      "A value is trying to be set on a copy of a slice from a DataFrame\n",
      "\n",
      "See the caveats in the documentation: http://pandas.pydata.org/pandas-docs/stable/indexing.html#indexing-view-versus-copy\n",
      "  app.launch_new_instance()\n",
      "C:\\ProgramData\\Anaconda3\\lib\\site-packages\\ipykernel\\__main__.py:4: FutureWarning: Method .as_matrix will be removed in a future version. Use .values instead.\n"
     ]
    }
   ],
   "source": [
    "# gbpredict = gbm2.predict(data_dummies[891:])\n",
    "data_test.Sex[data_test.Sex=='male']=0\n",
    "data_test.Sex[data_test.Sex=='female']=1\n",
    "result = pd.DataFrame({'PassengerId':data_test['PassengerId'].as_matrix(), 'Survived':data_test.Sex.astype(np.int32)})\n",
    "result.to_csv(\"gender.csv\", index=False)\n",
    "# gbpredict.shape"
   ]
  },
  {
   "cell_type": "code",
   "execution_count": 339,
   "metadata": {},
   "outputs": [
    {
     "data": {
      "text/html": [
       "<div>\n",
       "<style scoped>\n",
       "    .dataframe tbody tr th:only-of-type {\n",
       "        vertical-align: middle;\n",
       "    }\n",
       "\n",
       "    .dataframe tbody tr th {\n",
       "        vertical-align: top;\n",
       "    }\n",
       "\n",
       "    .dataframe thead th {\n",
       "        text-align: right;\n",
       "    }\n",
       "</style>\n",
       "<table border=\"1\" class=\"dataframe\">\n",
       "  <thead>\n",
       "    <tr style=\"text-align: right;\">\n",
       "      <th></th>\n",
       "      <th>PassengerId</th>\n",
       "      <th>Pclass</th>\n",
       "      <th>Name</th>\n",
       "      <th>Sex</th>\n",
       "      <th>Age</th>\n",
       "      <th>SibSp</th>\n",
       "      <th>Parch</th>\n",
       "      <th>Ticket</th>\n",
       "      <th>Fare</th>\n",
       "      <th>Cabin</th>\n",
       "      <th>Embarked</th>\n",
       "      <th>Title</th>\n",
       "    </tr>\n",
       "  </thead>\n",
       "  <tbody>\n",
       "    <tr>\n",
       "      <th>0</th>\n",
       "      <td>892</td>\n",
       "      <td>3</td>\n",
       "      <td>Kelly, Mr. James</td>\n",
       "      <td>male</td>\n",
       "      <td>34.5</td>\n",
       "      <td>0</td>\n",
       "      <td>0</td>\n",
       "      <td>330911</td>\n",
       "      <td>7.8292</td>\n",
       "      <td>NaN</td>\n",
       "      <td>Q</td>\n",
       "      <td>Mr</td>\n",
       "    </tr>\n",
       "    <tr>\n",
       "      <th>1</th>\n",
       "      <td>893</td>\n",
       "      <td>3</td>\n",
       "      <td>Wilkes, Mrs. James (Ellen Needs)</td>\n",
       "      <td>female</td>\n",
       "      <td>47.0</td>\n",
       "      <td>1</td>\n",
       "      <td>0</td>\n",
       "      <td>363272</td>\n",
       "      <td>7.0000</td>\n",
       "      <td>NaN</td>\n",
       "      <td>S</td>\n",
       "      <td>Mrs</td>\n",
       "    </tr>\n",
       "    <tr>\n",
       "      <th>2</th>\n",
       "      <td>894</td>\n",
       "      <td>2</td>\n",
       "      <td>Myles, Mr. Thomas Francis</td>\n",
       "      <td>male</td>\n",
       "      <td>62.0</td>\n",
       "      <td>0</td>\n",
       "      <td>0</td>\n",
       "      <td>240276</td>\n",
       "      <td>9.6875</td>\n",
       "      <td>NaN</td>\n",
       "      <td>Q</td>\n",
       "      <td>Mr</td>\n",
       "    </tr>\n",
       "    <tr>\n",
       "      <th>3</th>\n",
       "      <td>895</td>\n",
       "      <td>3</td>\n",
       "      <td>Wirz, Mr. Albert</td>\n",
       "      <td>male</td>\n",
       "      <td>27.0</td>\n",
       "      <td>0</td>\n",
       "      <td>0</td>\n",
       "      <td>315154</td>\n",
       "      <td>8.6625</td>\n",
       "      <td>NaN</td>\n",
       "      <td>S</td>\n",
       "      <td>Mr</td>\n",
       "    </tr>\n",
       "    <tr>\n",
       "      <th>4</th>\n",
       "      <td>896</td>\n",
       "      <td>3</td>\n",
       "      <td>Hirvonen, Mrs. Alexander (Helga E Lindqvist)</td>\n",
       "      <td>female</td>\n",
       "      <td>22.0</td>\n",
       "      <td>1</td>\n",
       "      <td>1</td>\n",
       "      <td>3101298</td>\n",
       "      <td>12.2875</td>\n",
       "      <td>NaN</td>\n",
       "      <td>S</td>\n",
       "      <td>Mrs</td>\n",
       "    </tr>\n",
       "  </tbody>\n",
       "</table>\n",
       "</div>"
      ],
      "text/plain": [
       "   PassengerId  Pclass                                          Name     Sex  \\\n",
       "0          892       3                              Kelly, Mr. James    male   \n",
       "1          893       3              Wilkes, Mrs. James (Ellen Needs)  female   \n",
       "2          894       2                     Myles, Mr. Thomas Francis    male   \n",
       "3          895       3                              Wirz, Mr. Albert    male   \n",
       "4          896       3  Hirvonen, Mrs. Alexander (Helga E Lindqvist)  female   \n",
       "\n",
       "    Age  SibSp  Parch   Ticket     Fare Cabin Embarked Title  \n",
       "0  34.5      0      0   330911   7.8292   NaN        Q    Mr  \n",
       "1  47.0      1      0   363272   7.0000   NaN        S   Mrs  \n",
       "2  62.0      0      0   240276   9.6875   NaN        Q    Mr  \n",
       "3  27.0      0      0   315154   8.6625   NaN        S    Mr  \n",
       "4  22.0      1      1  3101298  12.2875   NaN        S   Mrs  "
      ]
     },
     "execution_count": 339,
     "metadata": {},
     "output_type": "execute_result"
    }
   ],
   "source": [
    "data_test = pd.read_csv('test.csv')\n",
    "def splitName(data_train):\n",
    "    alltitles = data_train.Name.str.extract('([A-Za-z]+)\\.')[0].value_counts()\n",
    "    titles = alltitles.index.tolist()\n",
    "    littles = ['Capt','Don','Dona','Jonkheer','Major','Rev','Sir','Col']\n",
    "    middles = ['Dr','Countess','Mlle','Lady','Mme','Ms']\n",
    "    for title in titles:\n",
    "        data_train.loc[data_train.Name.str.contains(title),'Title']=title\n",
    "splitName(data_test)\n",
    "data_test.head()"
   ]
  },
  {
   "cell_type": "code",
   "execution_count": 342,
   "metadata": {},
   "outputs": [
    {
     "data": {
      "text/plain": [
       "Mr        236\n",
       "Miss       77\n",
       "Mrs        69\n",
       "Master     20\n",
       "Dr          6\n",
       "Col         5\n",
       "Rev         2\n",
       "Dona        2\n",
       "Ms          1\n",
       "Name: Title, dtype: int64"
      ]
     },
     "execution_count": 342,
     "metadata": {},
     "output_type": "execute_result"
    }
   ],
   "source": [
    "data_test.Title.value_counts()"
   ]
  },
  {
   "cell_type": "code",
   "execution_count": 343,
   "metadata": {},
   "outputs": [
    {
     "name": "stderr",
     "output_type": "stream",
     "text": [
      "C:\\ProgramData\\Anaconda3\\lib\\site-packages\\ipykernel\\__main__.py:6: FutureWarning: Method .as_matrix will be removed in a future version. Use .values instead.\n"
     ]
    }
   ],
   "source": [
    "def tree(data_train):\n",
    "    data_train['Surv'] = 0\n",
    "    data_train.loc[(data_train.Sex=='female')&(data_train.Pclass!=3),'Surv'] = 1\n",
    "    data_train.loc[(data_train.Sex=='female')&(data_train.Pclass==3)&(data_train.Embarked!='S'),'Surv'] = 1\n",
    "#     data_train.loc[(data_train.Sex=='male')&(data_train.Title=='Master'),'Surv'] = 1\n",
    "    result = pd.DataFrame({'PassengerId':data_train['PassengerId'].as_matrix(), 'Survived':data_train.Surv.astype(np.int32)})\n",
    "    result.to_csv(\"tree.csv\", index=False)\n",
    "# sum(data_train.Surv == data_train.Survived) / 891\n",
    "tree(data_test)\n",
    "#0.7799"
   ]
  }
 ],
 "metadata": {
  "kernelspec": {
   "display_name": "Python [conda env:Anaconda3]",
   "language": "python",
   "name": "conda-env-Anaconda3-py"
  },
  "language_info": {
   "codemirror_mode": {
    "name": "ipython",
    "version": 3
   },
   "file_extension": ".py",
   "mimetype": "text/x-python",
   "name": "python",
   "nbconvert_exporter": "python",
   "pygments_lexer": "ipython3",
   "version": "3.6.6"
  }
 },
 "nbformat": 4,
 "nbformat_minor": 2
}
